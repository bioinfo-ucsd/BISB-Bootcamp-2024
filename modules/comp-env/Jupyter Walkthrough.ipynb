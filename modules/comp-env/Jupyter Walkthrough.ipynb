{
 "cells": [
  {
   "cell_type": "markdown",
   "id": "c1a8cadb-4a9f-4d3d-a8cf-0f23fb32634d",
   "metadata": {},
   "source": [
    "# Jupyter Notebooks 101"
   ]
  },
  {
   "cell_type": "markdown",
   "id": "acf00629",
   "metadata": {},
   "source": [
    "## Kernels"
   ]
  },
  {
   "cell_type": "markdown",
   "id": "b4010910",
   "metadata": {},
   "source": [
    "A **kernel** is the computational environment that will run the notebook. This will define what programming language will run in the notebook's code cells (more on cells in a moment) and what packages are available. You can change the kernel from the \"Kernel\" menu in the top bar.\n",
    "> Your turn: change the kernel to \"Python [conda env:bootcamp]\" (if it isn't already)."
   ]
  },
  {
   "cell_type": "markdown",
   "id": "0ad81735",
   "metadata": {},
   "source": [
    "## Cells"
   ]
  },
  {
   "cell_type": "markdown",
   "id": "032fc618",
   "metadata": {},
   "source": [
    "In Jupyter notebooks, **cells** are either where text is edited/displayed or code is run.\n",
    "\n",
    "Text cells, also called **Markdown** cells, are written in... Markdown! This is a simple language that let's us format text using code, rather than needing a word processor like MS Word or Apple Pages. You can see an example of a Markdown cell by double-clicking on this block of text. This will also let you edit the cell and see how the text here is being formatted with Markdown. After you're done editing the cell, you can render/run it by pressing **`Shift + Enter`** or clicking the \"Run\" button in the top bar.\n",
    "\n",
    "> Your turn: edit this cell to display your name, hometown, and favorite dessert\n",
    "\n",
    "* **Name:**\n",
    "* *Hometown:*\n",
    "* Favorite dessert:"
   ]
  },
  {
   "cell_type": "markdown",
   "id": "445533ba",
   "metadata": {},
   "source": [
    "Next, let's talk about **code** cells such as the one below. In code cells, you can write code and run it by pressing **`Shift + Enter`** or clicking on the \"Run\" button in top bar.\n",
    "> Your turn: edit the cell to fill in the blanks."
   ]
  },
  {
   "cell_type": "code",
   "execution_count": null,
   "id": "039a1eb1",
   "metadata": {},
   "outputs": [],
   "source": [
    "adjective = '___'\n",
    "plural_noun = '___'\n",
    "print(f\"Life is like a {adjective} box of {plural_noun}. You never know what you're gonna get.\")"
   ]
  },
  {
   "cell_type": "markdown",
   "id": "6222b06b",
   "metadata": {},
   "source": [
    "Next, try inserting a cell below. You can add a cell _**b**elow_ by pressing **`b`** or the \"+\" icon in the top bar."
   ]
  },
  {
   "cell_type": "markdown",
   "id": "cd7942db",
   "metadata": {},
   "source": [
    "Once you have a new cell above this one, convert it to a _**M**arkdown_ cell by pressing **`m`** or by changing \"Code\" to \"Markdown\" from the drop down in the top bar."
   ]
  },
  {
   "cell_type": "markdown",
   "id": "c56d2423",
   "metadata": {},
   "source": [
    "Finally, delete the cell you just created by selecting it and pressing **`d, d`** (i.e. d twice). Hint: you can find these hotkeys and more by pressing **`h`**."
   ]
  },
  {
   "cell_type": "markdown",
   "id": "7ffd90df",
   "metadata": {},
   "source": [
    "## Plotting"
   ]
  },
  {
   "cell_type": "markdown",
   "id": "6992d328",
   "metadata": {},
   "source": [
    "Jupyter excels as a platform for interactive data analysis, especially plotting! Let's make one. We'll start by importing NumPy for working with vectorized arrays and Matplotlib for plotting."
   ]
  },
  {
   "cell_type": "code",
   "execution_count": null,
   "id": "0aa1e243",
   "metadata": {},
   "outputs": [],
   "source": [
    "import numpy as np\n",
    "import matplotlib.pyplot as plt"
   ]
  },
  {
   "cell_type": "markdown",
   "id": "1ae9f4f3",
   "metadata": {},
   "source": [
    "We'll plot the function:\n",
    "$$y = \\sin(x) + \\cos(x)$$\n",
    "over $x \\in [0, 10\\pi]$."
   ]
  },
  {
   "cell_type": "code",
   "execution_count": null,
   "id": "d1fadc81",
   "metadata": {},
   "outputs": [],
   "source": [
    "x = np.linspace(0, 10*np.pi, num=10)\n",
    "y = np.sin(x) + np.cos(x)\n",
    "plt.plot(x, y)\n",
    "plt.title('Cool function $y = \\sin(x) + \\cos(x)$');"
   ]
  },
  {
   "cell_type": "markdown",
   "id": "350ea6d0",
   "metadata": {},
   "source": [
    "That didn't come out that well, can you **fix the plot**? It needs more data points, the number of which is set by the `num` argument of `np.linspace`."
   ]
  }
 ],
 "metadata": {
  "kernelspec": {
   "display_name": "Python 3 (bootcamp)",
   "language": "python",
   "name": "python_bootcamp"
  },
  "language_info": {
   "codemirror_mode": {
    "name": "ipython",
    "version": 3
   },
   "file_extension": ".py",
   "mimetype": "text/x-python",
   "name": "python",
   "nbconvert_exporter": "python",
   "pygments_lexer": "ipython3",
   "version": "3.9.19"
  }
 },
 "nbformat": 4,
 "nbformat_minor": 5
}
